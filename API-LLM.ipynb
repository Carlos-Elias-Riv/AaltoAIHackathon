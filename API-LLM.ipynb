{
 "cells": [
  {
   "cell_type": "code",
   "execution_count": 16,
   "metadata": {},
   "outputs": [],
   "source": [
    "from ibm_watson_machine_learning.foundation_models import Model\n",
    "from ibm_watson_machine_learning.metanames import GenTextParamsMetaNames as GenParams\n",
    "from ibm_watson_machine_learning.foundation_models.utils.enums import ModelTypes, DecodingMethods\n",
    "import pandas as pd"
   ]
  },
  {
   "cell_type": "code",
   "execution_count": 36,
   "metadata": {},
   "outputs": [],
   "source": [
    "import random"
   ]
  },
  {
   "cell_type": "code",
   "execution_count": 25,
   "metadata": {},
   "outputs": [],
   "source": [
    "helph_df = pd.read_csv('heath_news.csv')\n",
    "medicine = pd.read_csv('medicines.csv')"
   ]
  },
  {
   "cell_type": "code",
   "execution_count": 46,
   "metadata": {},
   "outputs": [
    {
     "data": {
      "text/plain": [
       "200"
      ]
     },
     "execution_count": 46,
     "metadata": {},
     "output_type": "execute_result"
    }
   ],
   "source": [
    "len(helph_df)"
   ]
  },
  {
   "cell_type": "code",
   "execution_count": 47,
   "metadata": {},
   "outputs": [],
   "source": [
    "helph_df_groupby = helph_df.groupby('publishedDate').first().reset_index()"
   ]
  },
  {
   "cell_type": "code",
   "execution_count": 37,
   "metadata": {},
   "outputs": [],
   "source": [
    "random.shuffle(medicine['Company'])"
   ]
  },
  {
   "cell_type": "code",
   "execution_count": 40,
   "metadata": {},
   "outputs": [],
   "source": [
    "medicine_list = medicine['Company'][:100]"
   ]
  },
  {
   "cell_type": "code",
   "execution_count": 30,
   "metadata": {},
   "outputs": [],
   "source": [
    "Q = \"\"\"Classify in a range of -1 to 1, the correlation of the following new in the giving text to the availability of the medicine Orloc, where -1 is not correlated and 1 is very correlated. Take consideration the usage of the medicine Orloc and the content of the text. Respond with just  a number.\n",
    "\n",
    "'\\''The rising price of cigarettes is motivating more people - one in four adults in England - to give up smoking, research suggests.\\r\\nIn a survey of nearly 6,000 people, health concerns were still the t… [+2378 chars]'\\''\n",
    "\"\"\""
   ]
  },
  {
   "cell_type": "code",
   "execution_count": 41,
   "metadata": {},
   "outputs": [],
   "source": [
    "def get_score(text):\n",
    "    # To display example params enter\n",
    "    GenParams().get_example_values()\n",
    "\n",
    "    generate_params = {\n",
    "        GenParams.MAX_NEW_TOKENS: 25,\n",
    "        GenParams.TEMPERATURE: 0.17,\n",
    "        GenParams.TOP_K: 50,\n",
    "        GenParams.TOP_P: 1,\n",
    "        GenParams.REPETITION_PENALTY: 1\n",
    "    }\n",
    "\n",
    "    model = Model(\n",
    "        model_id=ModelTypes.LLAMA_2_70B_CHAT,\n",
    "        params=generate_params,\n",
    "        credentials={\n",
    "            \"apikey\": \"4vQJgBfuBVEvebuIUYza4sLlgBFiAwkpTWUNOJOwmGW5\",\n",
    "            \"url\": \"https://eu-de.ml.cloud.ibm.com\"\n",
    "        },\n",
    "        project_id=\"de5b3490-12b1-4e7c-bc07-8b9b517fdd28\"\n",
    "        )\n",
    "\n",
    "    \n",
    "    generated_response = model.generate(prompt=text)\n",
    "    return generated_response['results'][0]['generated_text'].replace('\\n', '')"
   ]
  },
  {
   "cell_type": "code",
   "execution_count": 49,
   "metadata": {},
   "outputs": [
    {
     "name": "stdout",
     "output_type": "stream",
     "text": [
      "The news 0 has been processed\n"
     ]
    }
   ],
   "source": [
    "dataBase_medicineScore = pd.DataFrame(columns=['date', 'medicine', 'score'])\n",
    "for i in range(0, len(helph_df_groupby)):\n",
    "    news = helph_df_groupby['content'][i]\n",
    "    date = helph_df_groupby['publishedDate'][i]\n",
    "    for j in range(0, len(medicine_list)):\n",
    "        medicine_name = medicine_list[j]\n",
    "        Q = \"\"\"Classify in a range of -1 to 1, the correlation of the following new in the giving text to the availability of the medicine {}, where -1 is not correlated and 1 is very correlated. Take consideration the usage of the medicine {} and the content of the text. Respond with just  a number.\n",
    "        {}\n",
    "        \"\"\".format(medicine_name, medicine_name,news )\n",
    "        score = get_score(Q)\n",
    "        # print('The score of the news \"{}\" with the medicine \"{}\" is: {}'.format(date, medicine_name, score))\n",
    "        dataBase_medicineScore = pd.concat([dataBase_medicineScore, pd.DataFrame({'date': [date], 'medicine': [medicine_name], 'score': [score]})]) \n",
    "    dataBase_medicineScore.to_csv('output.csv', index=False)\n",
    "    if i % 50 == 0:\n",
    "        print('The news {} has been processed'.format(i))\n",
    "        "
   ]
  },
  {
   "cell_type": "code",
   "execution_count": 32,
   "metadata": {},
   "outputs": [
    {
     "data": {
      "text/plain": [
       "'-0.5'"
      ]
     },
     "execution_count": 32,
     "metadata": {},
     "output_type": "execute_result"
    }
   ],
   "source": [
    "get_score(Q)"
   ]
  }
 ],
 "metadata": {
  "kernelspec": {
   "display_name": "Python 3",
   "language": "python",
   "name": "python3"
  },
  "language_info": {
   "codemirror_mode": {
    "name": "ipython",
    "version": 3
   },
   "file_extension": ".py",
   "mimetype": "text/x-python",
   "name": "python",
   "nbconvert_exporter": "python",
   "pygments_lexer": "ipython3",
   "version": "3.11.3"
  }
 },
 "nbformat": 4,
 "nbformat_minor": 2
}
