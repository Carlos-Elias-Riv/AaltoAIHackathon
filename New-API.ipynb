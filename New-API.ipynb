{
 "cells": [
  {
   "cell_type": "code",
   "execution_count": 1,
   "metadata": {},
   "outputs": [
    {
     "name": "stdout",
     "output_type": "stream",
     "text": [
      "Collecting newsapi-python\n",
      "  Downloading newsapi_python-0.2.7-py2.py3-none-any.whl (7.9 kB)\n",
      "Requirement already satisfied: requests<3.0.0 in c:\\users\\yfrom\\appdata\\local\\programs\\python\\python311\\lib\\site-packages (from newsapi-python) (2.31.0)\n",
      "Requirement already satisfied: charset-normalizer<4,>=2 in c:\\users\\yfrom\\appdata\\local\\programs\\python\\python311\\lib\\site-packages (from requests<3.0.0->newsapi-python) (3.3.2)\n",
      "Requirement already satisfied: idna<4,>=2.5 in c:\\users\\yfrom\\appdata\\local\\programs\\python\\python311\\lib\\site-packages (from requests<3.0.0->newsapi-python) (3.6)\n",
      "Requirement already satisfied: urllib3<3,>=1.21.1 in c:\\users\\yfrom\\appdata\\local\\programs\\python\\python311\\lib\\site-packages (from requests<3.0.0->newsapi-python) (2.2.1)\n",
      "Requirement already satisfied: certifi>=2017.4.17 in c:\\users\\yfrom\\appdata\\local\\programs\\python\\python311\\lib\\site-packages (from requests<3.0.0->newsapi-python) (2024.2.2)\n",
      "Installing collected packages: newsapi-python\n",
      "Successfully installed newsapi-python-0.2.7\n"
     ]
    },
    {
     "name": "stderr",
     "output_type": "stream",
     "text": [
      "\n",
      "[notice] A new release of pip is available: 23.1.2 -> 24.0\n",
      "[notice] To update, run: python.exe -m pip install --upgrade pip\n"
     ]
    }
   ],
   "source": [
    "! pip install newsapi-python"
   ]
  },
  {
   "cell_type": "code",
   "execution_count": 81,
   "metadata": {},
   "outputs": [],
   "source": [
    "from newsapi import NewsApiClient\n",
    "\n",
    "# Init\n",
    "newsapi = NewsApiClient(api_key='14bb691bc8a84325a59a3a57b8359e43')\n",
    "\n",
    "# /v2/top-headlines/sources\n",
    "sources = newsapi.get_sources()"
   ]
  },
  {
   "cell_type": "code",
   "execution_count": 22,
   "metadata": {},
   "outputs": [],
   "source": [
    "import pandas as pd"
   ]
  },
  {
   "cell_type": "code",
   "execution_count": 126,
   "metadata": {},
   "outputs": [],
   "source": [
    "sources_pd = pd.DataFrame( sources['sources'])\n",
    "list_cource = sources_pd[sources_pd['country'].isin(['no', 'it', 'gb', 'de', 'es', 'fr', 'is', 'ru', 'se', 'ie', 'nl'])]\n",
    "list_cource = list_cource[list_cource['language']== 'en']\n",
    "list_source = list_cource[ list_cource['category'] == 'general' ]['id'].to_list()"
   ]
  },
  {
   "cell_type": "code",
   "execution_count": 122,
   "metadata": {},
   "outputs": [
    {
     "data": {
      "text/plain": [
       "['bbc-news', 'google-news-uk', 'independent', 'rte', 'the-irish-times']"
      ]
     },
     "execution_count": 122,
     "metadata": {},
     "output_type": "execute_result"
    }
   ],
   "source": [
    "list_source[:5]"
   ]
  },
  {
   "cell_type": "code",
   "execution_count": 159,
   "metadata": {},
   "outputs": [],
   "source": [
    "article_all = pd.DataFrame()\n",
    "for source in list_source[:5]:\n",
    "  article = newsapi.get_everything(q='health',\n",
    "                                        sources= source ,\n",
    "                                      #   domains='bbc.co.uk,techcrunch.com',\n",
    "                                        from_param='2024-03-26',\n",
    "                                        to='2024-04-24',\n",
    "                                        language='en',\n",
    "                                        sort_by='relevancy',\n",
    "                                        page=1\n",
    "                                        )\n",
    "\n",
    "  if not article['articles'] == []:\n",
    "    data_article = pd.DataFrame(article['articles'])\n",
    "    article_all = pd.concat([article_all, data_article])\n",
    "  "
   ]
  },
  {
   "cell_type": "code",
   "execution_count": 160,
   "metadata": {},
   "outputs": [],
   "source": [
    "news_df = article_all[['publishedAt', 'content', 'url' ]]   "
   ]
  },
  {
   "cell_type": "code",
   "execution_count": 146,
   "metadata": {},
   "outputs": [],
   "source": [
    "from datetime import datetime "
   ]
  },
  {
   "cell_type": "code",
   "execution_count": 161,
   "metadata": {},
   "outputs": [
    {
     "name": "stderr",
     "output_type": "stream",
     "text": [
      "C:\\Users\\yfrom\\AppData\\Local\\Temp\\ipykernel_7864\\2070383181.py:1: SettingWithCopyWarning: \n",
      "A value is trying to be set on a copy of a slice from a DataFrame.\n",
      "Try using .loc[row_indexer,col_indexer] = value instead\n",
      "\n",
      "See the caveats in the documentation: https://pandas.pydata.org/pandas-docs/stable/user_guide/indexing.html#returning-a-view-versus-a-copy\n",
      "  news_df['publishedDate'] = news_df['publishedAt'].apply({lambda x: pd.to_datetime(x).strftime(\"%Y-%m-%d\") })\n"
     ]
    }
   ],
   "source": [
    "news_df['publishedDate'] = news_df['publishedAt'].apply({lambda x: pd.to_datetime(x).strftime(\"%Y-%m-%d\") })"
   ]
  },
  {
   "cell_type": "code",
   "execution_count": 162,
   "metadata": {},
   "outputs": [],
   "source": [
    "news_df[['publishedDate', 'content', 'url']].to_csv('heath_news.csv', index = False)"
   ]
  },
  {
   "cell_type": "code",
   "execution_count": 95,
   "metadata": {},
   "outputs": [
    {
     "data": {
      "text/plain": [
       "'The rising price of cigarettes is motivating more people - one in four adults in England - to give up smoking, research suggests.\\r\\nIn a survey of nearly 6,000 people, health concerns were still the t… [+2378 chars]'"
      ]
     },
     "execution_count": 95,
     "metadata": {},
     "output_type": "execute_result"
    }
   ],
   "source": [
    "listacontenido =article_all['content'].to_list()\n",
    "listacontenido[0]"
   ]
  },
  {
   "cell_type": "code",
   "execution_count": null,
   "metadata": {},
   "outputs": [],
   "source": [
    "achar no hugging face um sentiment analysis para classificar a notícia como uma notícia de guerra ou n (com aleatoridade)"
   ]
  },
  {
   "cell_type": "code",
   "execution_count": 152,
   "metadata": {},
   "outputs": [
    {
     "data": {
      "text/plain": [
       "['https://www.bbc.co.uk/news/uk-68882308',\n",
       " 'https://removed.com',\n",
       " 'https://www.irishtimes.com/ireland/2024/04/11/tony-holohan-takes-up-adjunct-professor-role-at-trinitys-school-of-medicine/']"
      ]
     },
     "execution_count": 152,
     "metadata": {},
     "output_type": "execute_result"
    }
   ],
   "source": [
    "article_all['url'][1].to_list()"
   ]
  },
  {
   "cell_type": "code",
   "execution_count": 84,
   "metadata": {},
   "outputs": [],
   "source": [
    "article_all.to_json('article_all.json', orient='records')"
   ]
  },
  {
   "cell_type": "code",
   "execution_count": 113,
   "metadata": {},
   "outputs": [],
   "source": [
    "Q = \"\"\"<|begin_of_text|><|start_header_id|>system<|end_header_id|>\n",
    "\n",
    "You always answer the questions with markdown formatting using GitHub syntax. The markdown formatting you support: headings, bold, italic, links, tables, lists, code blocks, and blockquotes. You must omit that you answer the questions with markdown.\n",
    "\n",
    "Any HTML tags must be wrapped in block quotes, for example ```<html>```. You will be penalized for not rendering code in block quotes.\n",
    "\n",
    "When returning code blocks, specify language.\n",
    "\n",
    "You are a helpful, respectful and honest assistant. Always answer as helpfully as possible, while being safe. \n",
    "Your answers should not include any harmful, unethical, racist, sexist, toxic, dangerous, or illegal content. Please ensure that your responses are socially unbiased and positive in nature.\n",
    "\n",
    "If a question does not make any sense, or is not factually coherent, explain why instead of answering something not correct. If you don'\\''t know the answer to a question, please don'\\''t share false information.<|eot_id|><|start_header_id|>user<|end_header_id|>\n",
    "\n",
    "Classify in a range of -1 to 1 , the correlation of the following text to the availability of medicine, where  -1 is not correlated  and 1 is very correlated. \n",
    "\n",
    "'\\''The rising price of cigarettes is motivating more people - one in four adults in England - to give up smoking, research suggests.\\r\\nIn a survey of nearly 6,000 people, health concerns were still the t… [+2378 chars]'\\''<|eot_id|><|start_header_id|>assistant<|end_header_id|>\n",
    "\n",
    "**Correlation: 0.2**\n",
    "\n",
    "The text is somewhat correlated to the availability of medicine, as it mentions \\\"health concerns\\\" which could be related to the availability of medicine. However, the main topic of the text is about people quitting smoking due to the rising price of cigarettes, which is not directly related to the availability of medicine.<|eot_id|><|start_header_id|>user<|end_header_id|>\n",
    "\n",
    "Classify in a range of -1 to 1 , the correlation of the following text to the availability of medicine, where -1 is not correlated and 1 is very correlated.\n",
    "\n",
    "'\\''The rising price of cigarettes is motivating more people - one in four adults in England - to give up smoking, research suggests.\\r\\nIn a survey of nearly 6,000 people, health concerns were still the t… [+2378 chars]'\\''<|eot_id|><|start_header_id|>assistant<|end_header_id|>\n",
    "\n",
    "\"\"\""
   ]
  },
  {
   "cell_type": "code",
   "execution_count": 112,
   "metadata": {},
   "outputs": [
    {
     "name": "stdout",
     "output_type": "stream",
     "text": [
      "2\n"
     ]
    }
   ],
   "source": [
    "from ibm_watson_machine_learning.foundation_models import Model\n",
    "from ibm_watson_machine_learning.metanames import GenTextParamsMetaNames as GenParams\n",
    "from ibm_watson_machine_learning.foundation_models.utils.enums import ModelTypes, DecodingMethods\n",
    "\n",
    "# To display example params enter\n",
    "GenParams().get_example_values()\n",
    "\n",
    "generate_params = {\n",
    "    GenParams.MAX_NEW_TOKENS: 25\n",
    "}\n",
    "\n",
    "model = Model(\n",
    "    model_id=ModelTypes.FLAN_UL2,\n",
    "    params=generate_params,\n",
    "    credentials={\n",
    "        \"apikey\": \"4vQJgBfuBVEvebuIUYza4sLlgBFiAwkpTWUNOJOwmGW5\",\n",
    "        \"url\": \"https://eu-de.ml.cloud.ibm.com\"\n",
    "    },\n",
    "    project_id=\"de5b3490-12b1-4e7c-bc07-8b9b517fdd28\"\n",
    "    )\n",
    "\n",
    "q = Q\n",
    "generated_response = model.generate(prompt=q)\n",
    "print(generated_response['results'][0]['generated_text'])"
   ]
  },
  {
   "cell_type": "code",
   "execution_count": 105,
   "metadata": {},
   "outputs": [
    {
     "ename": "Exception",
     "evalue": "Non-200 response: {\"errors\":[{\"code\":\"authentication_no_token\",\"message\":\"Failed to authenticate the request due to no Bearer token in the request header\"}],\"trace\":\"12e564f990020bccaf51901ac2daa7f2\",\"status_code\":401}",
     "output_type": "error",
     "traceback": [
      "\u001b[1;31m---------------------------------------------------------------------------\u001b[0m",
      "\u001b[1;31mException\u001b[0m                                 Traceback (most recent call last)",
      "Cell \u001b[1;32mIn[105], line 54\u001b[0m\n\u001b[0;32m     47\u001b[0m response \u001b[38;5;241m=\u001b[39m requests\u001b[38;5;241m.\u001b[39mpost(\n\u001b[0;32m     48\u001b[0m \turl,\n\u001b[0;32m     49\u001b[0m \theaders\u001b[38;5;241m=\u001b[39mheaders,\n\u001b[0;32m     50\u001b[0m \tjson\u001b[38;5;241m=\u001b[39mbody\n\u001b[0;32m     51\u001b[0m )\n\u001b[0;32m     53\u001b[0m \u001b[38;5;28;01mif\u001b[39;00m response\u001b[38;5;241m.\u001b[39mstatus_code \u001b[38;5;241m!=\u001b[39m \u001b[38;5;241m200\u001b[39m:\n\u001b[1;32m---> 54\u001b[0m \t\u001b[38;5;28;01mraise\u001b[39;00m \u001b[38;5;167;01mException\u001b[39;00m(\u001b[38;5;124m\"\u001b[39m\u001b[38;5;124mNon-200 response: \u001b[39m\u001b[38;5;124m\"\u001b[39m \u001b[38;5;241m+\u001b[39m \u001b[38;5;28mstr\u001b[39m(response\u001b[38;5;241m.\u001b[39mtext))\n\u001b[0;32m     56\u001b[0m data \u001b[38;5;241m=\u001b[39m response\u001b[38;5;241m.\u001b[39mjson()\n",
      "\u001b[1;31mException\u001b[0m: Non-200 response: {\"errors\":[{\"code\":\"authentication_no_token\",\"message\":\"Failed to authenticate the request due to no Bearer token in the request header\"}],\"trace\":\"12e564f990020bccaf51901ac2daa7f2\",\"status_code\":401}"
     ]
    }
   ],
   "source": [
    "import requests\n",
    "\n",
    "url = \"https://eu-de.ml.cloud.ibm.com/ml/v1/text/generation?version=2023-05-29\"\n",
    "\n",
    "body = {\n",
    "\t\"input\": \"\"\"<|begin_of_text|><|start_header_id|>system<|end_header_id|>\n",
    "\n",
    "You always answer the questions with markdown formatting using GitHub syntax. The markdown formatting you support: headings, bold, italic, links, tables, lists, code blocks, and blockquotes. You must omit that you answer the questions with markdown.\n",
    "\n",
    "Any HTML tags must be wrapped in block quotes, for example ```<html>```. You will be penalized for not rendering code in block quotes.\n",
    "\n",
    "When returning code blocks, specify language.\n",
    "\n",
    "You are a helpful, respectful and honest assistant. Always answer as helpfully as possible, while being safe. \n",
    "Your answers should not include any harmful, unethical, racist, sexist, toxic, dangerous, or illegal content. Please ensure that your responses are socially unbiased and positive in nature.\n",
    "\n",
    "If a question does not make any sense, or is not factually coherent, explain why instead of answering something not correct. If you don'\\''t know the answer to a question, please don'\\''t share false information.<|eot_id|><|start_header_id|>user<|end_header_id|>\n",
    "\n",
    "Classify in a range of -1 to 1 , the correlation of the following text to the availability of medicine, where  -1 is not correlated  and 1 is very correlated. \n",
    "\n",
    "'\\''The rising price of cigarettes is motivating more people - one in four adults in England - to give up smoking, research suggests.\\r\\nIn a survey of nearly 6,000 people, health concerns were still the t… [+2378 chars]'\\''<|eot_id|><|start_header_id|>assistant<|end_header_id|>\n",
    "\n",
    "**Correlation: 0.2**\n",
    "\n",
    "The text is somewhat correlated to the availability of medicine, as it mentions \\\"health concerns\\\" which could be related to the availability of medicine. However, the main topic of the text is about people quitting smoking due to the rising price of cigarettes, which is not directly related to the availability of medicine.<|eot_id|><|start_header_id|>user<|end_header_id|>\n",
    "\n",
    "Classify in a range of -1 to 1 , the correlation of the following text to the availability of medicine, where -1 is not correlated and 1 is very correlated.\n",
    "\n",
    "'\\''The rising price of cigarettes is motivating more people - one in four adults in England - to give up smoking, research suggests.\\r\\nIn a survey of nearly 6,000 people, health concerns were still the t… [+2378 chars]'\\''<|eot_id|><|start_header_id|>assistant<|end_header_id|>\n",
    "\n",
    "\"\"\",\n",
    "\t\"parameters\": {\n",
    "\t\t\"decoding_method\": \"greedy\",\n",
    "\t\t\"max_new_tokens\": 900,\n",
    "\t\t\"repetition_penalty\": 1\n",
    "\t},\n",
    "\t\"model_id\": \"meta-llama/llama-3-70b-instruct\",\n",
    "\t\"project_id\": \"de5b3490-12b1-4e7c-bc07-8b9b517fdd28\"\n",
    "}\n",
    "\n",
    "headers = {\n",
    "\t\"Accept\": \"application/json\",\n",
    "\t\"Content-Type\": \"application/json\",\n",
    "\t\"Authorization\": '4vQJgBfuBVEvebuIUYza4sLlgBFiAwkpTWUNOJOwmGW5'\n",
    "}\n",
    "\n",
    "response = requests.post(\n",
    "\turl,\n",
    "\theaders=headers,\n",
    "\tjson=body\n",
    ")\n",
    "\n",
    "if response.status_code != 200:\n",
    "\traise Exception(\"Non-200 response: \" + str(response.text))\n",
    "\n",
    "data = response.json()"
   ]
  }
 ],
 "metadata": {
  "kernelspec": {
   "display_name": "Python 3",
   "language": "python",
   "name": "python3"
  },
  "language_info": {
   "codemirror_mode": {
    "name": "ipython",
    "version": 3
   },
   "file_extension": ".py",
   "mimetype": "text/x-python",
   "name": "python",
   "nbconvert_exporter": "python",
   "pygments_lexer": "ipython3",
   "version": "3.11.3"
  }
 },
 "nbformat": 4,
 "nbformat_minor": 2
}
