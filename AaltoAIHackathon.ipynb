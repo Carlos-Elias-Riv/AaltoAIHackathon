{
 "cells": [
  {
   "cell_type": "code",
   "execution_count": null,
   "metadata": {},
   "outputs": [],
   "source": [
    "import torch\n",
    "import torch.nn as nn\n",
    "import torch.nn.functional as F\n",
    "import pandas as pd\n",
    "from sklearn.model_selection import train_test_split\n",
    "from matplotlib import pyplot as plt\n",
    "import json\n",
    "from collections import defaultdict"
   ]
  },
  {
   "cell_type": "code",
   "execution_count": null,
   "metadata": {},
   "outputs": [],
   "source": [
    "\n",
    "\n",
    "def reformat_json():\n",
    "    new_data = defaultdict(dict)\n",
    "    with open('timeseries.json', 'r') as f:\n",
    "        data = json.load(f)\n",
    "        for medicine in data:\n",
    "            for key in data[medicine]:\n",
    "                for date in data[medicine][key]:\n",
    "                    new_data[medicine][date[:10]] = data[medicine][key][date]\n",
    "    return new_data\n",
    "\n",
    "databases = {}\n",
    "def convert_dataframe():\n",
    "    data = reformat_json()\n",
    "    for medicine in data:\n",
    "        databases[medicine] = pd.DataFrame(data[medicine].items(), columns=['date', 'value'])\n",
    "    return databases\n",
    "databases = convert_dataframe()\n",
    "print(databases)"
   ]
  },
  {
   "cell_type": "code",
   "execution_count": null,
   "metadata": {},
   "outputs": [],
   "source": [
    "db1 = defaultdict(dict)\n",
    "df = pd.read_csv('output.csv')\n",
    "for i, row in df.iterrows():\n",
    "    db1[row['medicine']].update({row['date']: row['score']})\n",
    "\n",
    "for key in db1:\n",
    "    db1[key] = pd.DataFrame(db1[key].items(), columns=['date', 'score'])\n",
    "db1 = dict(db1)\n",
    "print(db1)"
   ]
  },
  {
   "cell_type": "code",
   "execution_count": null,
   "metadata": {},
   "outputs": [],
   "source": [
    "# merge the dataframes in each medicine key with the common date column\n",
    "for medicine in databases:\n",
    "    try:\n",
    "        databases[medicine] = pd.merge(databases[medicine], db1[medicine], on='date', how='left', suffixes=('_1', '_2'))\n",
    "    except Exception:\n",
    "        pass"
   ]
  },
  {
   "cell_type": "code",
   "execution_count": null,
   "metadata": {},
   "outputs": [],
   "source": [
    "for medicine in databases:\n",
    "    databases[medicine]['date'] = pd.to_datetime(databases[medicine]['date'])\n",
    "    databases[medicine]['year'] = databases[medicine]['date'].dt.year\n",
    "    databases[medicine]['month'] = databases[medicine]['date'].dt.month\n",
    "    databases[medicine]['day'] = databases[medicine]['date'].dt.day"
   ]
  },
  {
   "cell_type": "code",
   "execution_count": null,
   "metadata": {},
   "outputs": [],
   "source": [
    "# change based on the medicine you want to predict\n",
    "databases[medicine] = databases[medicine].dropna()  # drop rows with missing values\n",
    "X_train, X_test, y_train, y_test = train_test_split(databases[medicine][['year', 'month', 'day', 'score']].values, databases[medicine]['value'].values, test_size=0.2, shuffle=False)\n",
    "X_train = torch.tensor(X_train, dtype=torch.float32)\n",
    "y_train = torch.tensor(y_train, dtype=torch.float32)\n",
    "X_test = torch.tensor(X_test, dtype=torch.float32)\n",
    "y_test = torch.tensor(y_test, dtype=torch.float32)"
   ]
  },
  {
   "cell_type": "code",
   "execution_count": null,
   "metadata": {},
   "outputs": [],
   "source": [
    "class Availability(nn.Module):\n",
    "    def __init__(self):\n",
    "        super(Availability, self).__init__()\n",
    "        self.fc3 = nn.Linear(4, 64)\n",
    "        self.fc1 = nn.Linear(64, 20)\n",
    "        self.fc2 = nn.Linear(20, 1)\n",
    "    def forward(self, x):\n",
    "        x = F.relu(self.fc3(x))\n",
    "        x = F.relu(self.fc1(x))\n",
    "        x = self.fc2(x)\n",
    "        return x"
   ]
  },
  {
   "cell_type": "code",
   "execution_count": null,
   "metadata": {},
   "outputs": [],
   "source": [
    "class Availability(nn.Module):\n",
    "    def __init__(self):\n",
    "        super(Availability, self).__init__()\n",
    "        self.fc1 = nn.Linear(4, 64)\n",
    "        self.bn1 = nn.BatchNorm1d(64)\n",
    "        self.fc2 = nn.Linear(64, 20)\n",
    "        self.bn2 = nn.BatchNorm1d(20)\n",
    "        self.fc3 = nn.Linear(20, 1)\n",
    "\n",
    "    def forward(self, x):\n",
    "        x = F.relu(self.bn1(self.fc1(x)))\n",
    "        x = F.relu(self.bn2(self.fc2(x)))\n",
    "        x = self.fc3(x)\n",
    "        return x"
   ]
  },
  {
   "cell_type": "code",
   "execution_count": null,
   "metadata": {},
   "outputs": [],
   "source": [
    "def train(medicine):\n",
    "    databases[medicine] = databases[medicine].dropna()  # drop rows with missing values\n",
    "    X_train, X_test, y_train, y_test = train_test_split(databases[medicine][['year', 'month', 'day', 'score']].values, databases[medicine]['value'].values, test_size=0.2, shuffle=False)\n",
    "    X_train = torch.tensor(X_train, dtype=torch.float32)\n",
    "    y_train = torch.tensor(y_train, dtype=torch.float32)\n",
    "    X_test = torch.tensor(X_test, dtype=torch.float32)\n",
    "    y_test = torch.tensor(y_test, dtype=torch.float32)\n",
    "\n",
    "    model = Availability()\n",
    "    optimizer = torch.optim.AdamW(model.parameters(), lr=0.001, weight_decay=0.01)\n",
    "    criterion = nn.MSELoss()\n",
    "    epochs = 75\n",
    "\n",
    "    for i in range(epochs):\n",
    "        optimizer.zero_grad()\n",
    "        output = model(X_train)\n",
    "        loss = criterion(output, y_train)\n",
    "        loss.backward()\n",
    "        optimizer.step()\n",
    "        # print(f'Epoch {i + 1}/{epochs}, Loss: {loss.item()}')\n",
    "    \n",
    "    # with torch.no_grad():\n",
    "    #     for i in range(len(X_test)):\n",
    "    #         pred = model(X_test[i, :].reshape(1, 1, 4))\n",
    "    #         # print(f'Prediction: {pred.item()}, Actual: {y_test[i]}')\n",
    "    try:\n",
    "        torch.save(model.state_dict(), f'models_new\\{medicine}.pth')\n",
    "    except Exception:   \n",
    "        pass\n",
    "    "
   ]
  },
  {
   "cell_type": "code",
   "execution_count": null,
   "metadata": {},
   "outputs": [],
   "source": [
    "for medicine in db1:\n",
    "    train(medicine)"
   ]
  },
  {
   "cell_type": "code",
   "execution_count": null,
   "metadata": {},
   "outputs": [],
   "source": []
  },
  {
   "cell_type": "code",
   "execution_count": null,
   "metadata": {},
   "outputs": [],
   "source": [
    "model = Availability()\n",
    "optimizer = torch.optim.AdamW(model.parameters(), lr=0.001, weight_decay=0.01)\n",
    "criterion = nn.MSELoss()\n",
    "epochs = 100"
   ]
  },
  {
   "cell_type": "code",
   "execution_count": null,
   "metadata": {},
   "outputs": [],
   "source": [
    "for i in range(epochs):\n",
    "    optimizer.zero_grad()\n",
    "    output = model(X_train)\n",
    "    loss = criterion(output, y_train)\n",
    "    loss.backward()\n",
    "    optimizer.step()\n",
    "    print(f'Epoch {i + 1}/{epochs}, Loss: {loss.item()}')"
   ]
  },
  {
   "cell_type": "code",
   "execution_count": null,
   "metadata": {},
   "outputs": [],
   "source": [
    "import os"
   ]
  },
  {
   "cell_type": "code",
   "execution_count": null,
   "metadata": {},
   "outputs": [],
   "source": [
    "(X_test[1, :].reshape(1, 1, 4))"
   ]
  },
  {
   "cell_type": "code",
   "execution_count": 111,
   "metadata": {},
   "outputs": [],
   "source": [
    "\n",
    "folder_path = \"models_new\"\n",
    "models_list = []\n",
    "\n",
    "# Initialize model\n",
    "model = Availability()\n",
    "\n",
    "# Set model to evaluation mode\n",
    "model.eval()\n",
    "\n",
    "\n",
    "# Iterate over each file in the directory\n",
    "for file_name in os.listdir(folder_path):\n",
    "    # Check if the file is a .pth file\n",
    "    name = file_name.replace('.pth', '')\n",
    "    databases[name] = databases[name].dropna()  # drop rows with missing values\n",
    "    X_train, X_test, y_train, y_test = train_test_split(databases[name][['year', 'month', 'day', 'score']].values, databases[name]['value'].values, test_size=0.2, shuffle=False)\n",
    "    X_train = torch.tensor(X_train, dtype=torch.float32)\n",
    "    y_train = torch.tensor(y_train, dtype=torch.float32)\n",
    "    X_test = torch.tensor(X_test, dtype=torch.float32)\n",
    "    y_test = torch.tensor(y_test, dtype=torch.float32)\n",
    "    if file_name.endswith(\".pth\"):\n",
    "        not_good_model = False\n",
    "        # Get the full path of the file\n",
    "        file_path = os.path.join(folder_path, file_name)\n",
    "        \n",
    "        # Load the model from the .pth file\n",
    "        model.load_state_dict(torch.load(file_path))\n",
    "        \n",
    "        # Pass a batch of data through the model to initialize batch normalization statistics\n",
    "        with torch.no_grad():\n",
    "            # Assuming X_test is a tensor of shape (num_samples, 4)\n",
    "            preds = model(X_test)\n",
    "        \n",
    "        # Perform inference and check if the model meets your criteria\n",
    "        with torch.no_grad():\n",
    "            for i in range(len(X_test)):\n",
    "                pred = model(X_test[i, :].reshape(1, 4))  # Assuming input shape is (1, 4)\n",
    "                if pred.item() > y_test[i] * 1.1 or pred.item() < y_test[i] * 0.9:\n",
    "                    not_good_model = True\n",
    "                    break\n",
    "        \n",
    "        if not not_good_model:\n",
    "            models_list.append(file_name)\n"
   ]
  },
  {
   "cell_type": "code",
   "execution_count": 112,
   "metadata": {},
   "outputs": [
    {
     "data": {
      "text/plain": [
       "['Ivermectin Medical Valley.pth', 'Metomylan.pth']"
      ]
     },
     "execution_count": 112,
     "metadata": {},
     "output_type": "execute_result"
    }
   ],
   "source": [
    "models_list"
   ]
  },
  {
   "cell_type": "code",
   "execution_count": 104,
   "metadata": {},
   "outputs": [
    {
     "data": {
      "text/plain": [
       "<All keys matched successfully>"
      ]
     },
     "execution_count": 104,
     "metadata": {},
     "output_type": "execute_result"
    }
   ],
   "source": [
    "folder_path = \"models_new\"\n",
    "file_name = models_list[3]\n",
    "file_path = os.path.join(folder_path, file_name)\n",
    "model.load_state_dict(torch.load(file_path))"
   ]
  },
  {
   "cell_type": "code",
   "execution_count": 107,
   "metadata": {},
   "outputs": [
    {
     "data": {
      "text/plain": [
       "'models_new\\\\Zonegran.pth'"
      ]
     },
     "execution_count": 107,
     "metadata": {},
     "output_type": "execute_result"
    }
   ],
   "source": [
    "file_path"
   ]
  },
  {
   "cell_type": "code",
   "execution_count": 105,
   "metadata": {},
   "outputs": [
    {
     "name": "stdout",
     "output_type": "stream",
     "text": [
      "Prediction: 2.123537302017212, Actual: 2.180000066757202\n",
      "Prediction: 2.441741466522217, Actual: 2.200000047683716\n",
      "Prediction: 2.353288412094116, Actual: 2.319999933242798\n",
      "Prediction: 2.3855907917022705, Actual: 2.369999885559082\n"
     ]
    }
   ],
   "source": [
    "with torch.no_grad():\n",
    "    for i in range(len(X_test)):\n",
    "        pred = model(X_test[i, :].reshape(1, 4))\n",
    "        print(f'Prediction: {pred.item()}, Actual: {y_test[i]}')"
   ]
  },
  {
   "cell_type": "code",
   "execution_count": 106,
   "metadata": {},
   "outputs": [
    {
     "data": {
      "text/plain": [
       "<matplotlib.lines.Line2D at 0x2716a942110>"
      ]
     },
     "execution_count": 106,
     "metadata": {},
     "output_type": "execute_result"
    },
    {
     "data": {
      "image/png": "[encoded data removed]",
      "text/plain": [
       "<Figure size 640x480 with 1 Axes>"
      ]
     },
     "metadata": {},
     "output_type": "display_data"
    }
   ],
   "source": [
    "# plt.plot(databases[medicine].loc[:15, 'date'], model(X_train).detach().numpy(), label='Train', color='blue')\n",
    "plt.plot(databases[medicine].loc[:15, 'date'],  y_train.detach().numpy(), label='Train', color='orange')\n",
    "plt.plot(databases[medicine].loc[16:, 'date'], model(X_test).detach().numpy(), label='Test', color='blue')\n",
    "plt.axvline(x=databases[medicine].loc[15, 'date'], color='red', linestyle='--')\n",
    "# plt.plot(databases[medicine].loc[16:, 'date'], y_test.detach().numpy(), label='Test', color='orange')"
   ]
  },
  {
   "cell_type": "code",
   "execution_count": null,
   "metadata": {},
   "outputs": [],
   "source": [
    "from pprint import pprint\n",
    "pprint(databases['A-Pen'].head())"
   ]
  },
  {
   "cell_type": "code",
   "execution_count": null,
   "metadata": {},
   "outputs": [],
   "source": [
    "X_train"
   ]
  },
  {
   "cell_type": "code",
   "execution_count": null,
   "metadata": {},
   "outputs": [],
   "source": []
  }
 ],
 "metadata": {
  "kernelspec": {
   "display_name": "pytorchenv",
   "language": "python",
   "name": "python3"
  },
  "language_info": {
   "codemirror_mode": {
    "name": "ipython",
    "version": 3
   },
   "file_extension": ".py",
   "mimetype": "text/x-python",
   "name": "python",
   "nbconvert_exporter": "python",
   "pygments_lexer": "ipython3",
   "version": "3.11.3"
  }
 },
 "nbformat": 4,
 "nbformat_minor": 2
}
